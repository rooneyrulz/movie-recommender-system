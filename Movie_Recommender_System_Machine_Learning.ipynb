{
  "cells": [
    {
      "cell_type": "markdown",
      "metadata": {
        "id": "CAXi3mhTgXz6"
      },
      "source": [
        "**Types of Recommendation Systems**\n",
        "\n",
        "1.   Content Based Recommendation System\n",
        "2.   Popularity Based Recommendation System\n",
        "3.   Collaborative Recommendation System\n",
        "\n"
      ]
    },
    {
      "cell_type": "markdown",
      "metadata": {},
      "source": [
        "**Importing the libraries**"
      ]
    },
    {
      "cell_type": "code",
      "execution_count": 5,
      "metadata": {
        "id": "dZ47Jb6bfN0H"
      },
      "outputs": [],
      "source": [
        "import numpy as np\n",
        "import pandas as pd\n",
        "import difflib\n",
        "from sklearn.feature_extraction.text import TfidfVectorizer\n",
        "from sklearn.metrics.pairwise import cosine_similarity"
      ]
    },
    {
      "cell_type": "code",
      "execution_count": 6,
      "metadata": {
        "colab": {
          "base_uri": "https://localhost:8080/",
          "height": 460
        },
        "id": "-SEzpFsfhGzw",
        "outputId": "8cdb18a1-c605-4335-d0df-4dfbfd443c2f"
      },
      "outputs": [],
      "source": [
        "# loading the movies data\n",
        "movies = pd.read_csv('./data/movies.csv')"
      ]
    },
    {
      "cell_type": "code",
      "execution_count": 7,
      "metadata": {
        "id": "--pLYEmShM0F"
      },
      "outputs": [
        {
          "data": {
            "text/plain": [
              "(4803, 24)"
            ]
          },
          "execution_count": 7,
          "metadata": {},
          "output_type": "execute_result"
        }
      ],
      "source": [
        "movies.shape"
      ]
    },
    {
      "cell_type": "code",
      "execution_count": 13,
      "metadata": {},
      "outputs": [
        {
          "data": {
            "text/html": [
              "<div>\n",
              "<style scoped>\n",
              "    .dataframe tbody tr th:only-of-type {\n",
              "        vertical-align: middle;\n",
              "    }\n",
              "\n",
              "    .dataframe tbody tr th {\n",
              "        vertical-align: top;\n",
              "    }\n",
              "\n",
              "    .dataframe thead th {\n",
              "        text-align: right;\n",
              "    }\n",
              "</style>\n",
              "<table border=\"1\" class=\"dataframe\">\n",
              "  <thead>\n",
              "    <tr style=\"text-align: right;\">\n",
              "      <th></th>\n",
              "      <th>index</th>\n",
              "      <th>budget</th>\n",
              "      <th>genres</th>\n",
              "      <th>homepage</th>\n",
              "      <th>id</th>\n",
              "      <th>keywords</th>\n",
              "      <th>original_language</th>\n",
              "      <th>original_title</th>\n",
              "      <th>overview</th>\n",
              "      <th>popularity</th>\n",
              "      <th>production_companies</th>\n",
              "      <th>production_countries</th>\n",
              "      <th>release_date</th>\n",
              "      <th>revenue</th>\n",
              "      <th>runtime</th>\n",
              "      <th>spoken_languages</th>\n",
              "      <th>status</th>\n",
              "      <th>tagline</th>\n",
              "      <th>title</th>\n",
              "      <th>vote_average</th>\n",
              "      <th>vote_count</th>\n",
              "      <th>cast</th>\n",
              "      <th>crew</th>\n",
              "      <th>director</th>\n",
              "    </tr>\n",
              "  </thead>\n",
              "  <tbody>\n",
              "    <tr>\n",
              "      <th>0</th>\n",
              "      <td>0</td>\n",
              "      <td>237000000</td>\n",
              "      <td>Action Adventure Fantasy Science Fiction</td>\n",
              "      <td>http://www.avatarmovie.com/</td>\n",
              "      <td>19995</td>\n",
              "      <td>culture clash future space war space colony so...</td>\n",
              "      <td>en</td>\n",
              "      <td>Avatar</td>\n",
              "      <td>In the 22nd century, a paraplegic Marine is di...</td>\n",
              "      <td>150.437577</td>\n",
              "      <td>[{\"name\": \"Ingenious Film Partners\", \"id\": 289...</td>\n",
              "      <td>[{\"iso_3166_1\": \"US\", \"name\": \"United States o...</td>\n",
              "      <td>2009-12-10</td>\n",
              "      <td>2787965087</td>\n",
              "      <td>162.0</td>\n",
              "      <td>[{\"iso_639_1\": \"en\", \"name\": \"English\"}, {\"iso...</td>\n",
              "      <td>Released</td>\n",
              "      <td>Enter the World of Pandora.</td>\n",
              "      <td>Avatar</td>\n",
              "      <td>7.2</td>\n",
              "      <td>11800</td>\n",
              "      <td>Sam Worthington Zoe Saldana Sigourney Weaver S...</td>\n",
              "      <td>[{'name': 'Stephen E. Rivkin', 'gender': 0, 'd...</td>\n",
              "      <td>James Cameron</td>\n",
              "    </tr>\n",
              "    <tr>\n",
              "      <th>1</th>\n",
              "      <td>1</td>\n",
              "      <td>300000000</td>\n",
              "      <td>Adventure Fantasy Action</td>\n",
              "      <td>http://disney.go.com/disneypictures/pirates/</td>\n",
              "      <td>285</td>\n",
              "      <td>ocean drug abuse exotic island east india trad...</td>\n",
              "      <td>en</td>\n",
              "      <td>Pirates of the Caribbean: At World's End</td>\n",
              "      <td>Captain Barbossa, long believed to be dead, ha...</td>\n",
              "      <td>139.082615</td>\n",
              "      <td>[{\"name\": \"Walt Disney Pictures\", \"id\": 2}, {\"...</td>\n",
              "      <td>[{\"iso_3166_1\": \"US\", \"name\": \"United States o...</td>\n",
              "      <td>2007-05-19</td>\n",
              "      <td>961000000</td>\n",
              "      <td>169.0</td>\n",
              "      <td>[{\"iso_639_1\": \"en\", \"name\": \"English\"}]</td>\n",
              "      <td>Released</td>\n",
              "      <td>At the end of the world, the adventure begins.</td>\n",
              "      <td>Pirates of the Caribbean: At World's End</td>\n",
              "      <td>6.9</td>\n",
              "      <td>4500</td>\n",
              "      <td>Johnny Depp Orlando Bloom Keira Knightley Stel...</td>\n",
              "      <td>[{'name': 'Dariusz Wolski', 'gender': 2, 'depa...</td>\n",
              "      <td>Gore Verbinski</td>\n",
              "    </tr>\n",
              "  </tbody>\n",
              "</table>\n",
              "</div>"
            ],
            "text/plain": [
              "   index     budget                                    genres  \\\n",
              "0      0  237000000  Action Adventure Fantasy Science Fiction   \n",
              "1      1  300000000                  Adventure Fantasy Action   \n",
              "\n",
              "                                       homepage     id  \\\n",
              "0                   http://www.avatarmovie.com/  19995   \n",
              "1  http://disney.go.com/disneypictures/pirates/    285   \n",
              "\n",
              "                                            keywords original_language  \\\n",
              "0  culture clash future space war space colony so...                en   \n",
              "1  ocean drug abuse exotic island east india trad...                en   \n",
              "\n",
              "                             original_title  \\\n",
              "0                                    Avatar   \n",
              "1  Pirates of the Caribbean: At World's End   \n",
              "\n",
              "                                            overview  popularity  \\\n",
              "0  In the 22nd century, a paraplegic Marine is di...  150.437577   \n",
              "1  Captain Barbossa, long believed to be dead, ha...  139.082615   \n",
              "\n",
              "                                production_companies  \\\n",
              "0  [{\"name\": \"Ingenious Film Partners\", \"id\": 289...   \n",
              "1  [{\"name\": \"Walt Disney Pictures\", \"id\": 2}, {\"...   \n",
              "\n",
              "                                production_countries release_date     revenue  \\\n",
              "0  [{\"iso_3166_1\": \"US\", \"name\": \"United States o...   2009-12-10  2787965087   \n",
              "1  [{\"iso_3166_1\": \"US\", \"name\": \"United States o...   2007-05-19   961000000   \n",
              "\n",
              "   runtime                                   spoken_languages    status  \\\n",
              "0    162.0  [{\"iso_639_1\": \"en\", \"name\": \"English\"}, {\"iso...  Released   \n",
              "1    169.0           [{\"iso_639_1\": \"en\", \"name\": \"English\"}]  Released   \n",
              "\n",
              "                                          tagline  \\\n",
              "0                     Enter the World of Pandora.   \n",
              "1  At the end of the world, the adventure begins.   \n",
              "\n",
              "                                      title  vote_average  vote_count  \\\n",
              "0                                    Avatar           7.2       11800   \n",
              "1  Pirates of the Caribbean: At World's End           6.9        4500   \n",
              "\n",
              "                                                cast  \\\n",
              "0  Sam Worthington Zoe Saldana Sigourney Weaver S...   \n",
              "1  Johnny Depp Orlando Bloom Keira Knightley Stel...   \n",
              "\n",
              "                                                crew        director  \n",
              "0  [{'name': 'Stephen E. Rivkin', 'gender': 0, 'd...   James Cameron  \n",
              "1  [{'name': 'Dariusz Wolski', 'gender': 2, 'depa...  Gore Verbinski  "
            ]
          },
          "execution_count": 13,
          "metadata": {},
          "output_type": "execute_result"
        }
      ],
      "source": [
        "# print the first five rows\n",
        "pd.set_option('display.max_columns', None)\n",
        "movies.head(2)"
      ]
    },
    {
      "cell_type": "code",
      "execution_count": 14,
      "metadata": {},
      "outputs": [],
      "source": [
        "# select the relevant features\n",
        "selected_features = ['genres','keywords','original_title','overview','tagline','title','cast','director']"
      ]
    },
    {
      "cell_type": "code",
      "execution_count": 15,
      "metadata": {},
      "outputs": [
        {
          "data": {
            "text/plain": [
              "genres             28\n",
              "keywords          412\n",
              "original_title      0\n",
              "overview            3\n",
              "tagline           844\n",
              "title               0\n",
              "cast               43\n",
              "director           30\n",
              "dtype: int64"
            ]
          },
          "execution_count": 15,
          "metadata": {},
          "output_type": "execute_result"
        }
      ],
      "source": [
        "movies[selected_features].isna().sum()"
      ]
    },
    {
      "cell_type": "code",
      "execution_count": 17,
      "metadata": {},
      "outputs": [],
      "source": [
        "movies = movies[selected_features].fillna('')"
      ]
    },
    {
      "cell_type": "code",
      "execution_count": 19,
      "metadata": {},
      "outputs": [],
      "source": [
        "# combining all the 5 selected features\n",
        "combined_features = movies[selected_features].apply(lambda row: ' '.join(row.values.astype(str)), axis=1)"
      ]
    },
    {
      "cell_type": "code",
      "execution_count": 21,
      "metadata": {},
      "outputs": [
        {
          "name": "stdout",
          "output_type": "stream",
          "text": [
            "Action Adventure Fantasy Science Fiction culture clash future space war space colony society Avatar In the 22nd century, a paraplegic Marine is dispatched to the moon Pandora on a unique mission, but becomes torn between following orders and protecting an alien civilization. Enter the World of Pandora. Avatar Sam Worthington Zoe Saldana Sigourney Weaver Stephen Lang Michelle Rodriguez James Cameron\n"
          ]
        }
      ],
      "source": [
        "print(combined_features[0])"
      ]
    },
    {
      "cell_type": "code",
      "execution_count": 22,
      "metadata": {},
      "outputs": [],
      "source": [
        "# converting the text data into numerical data\n",
        "vectorizer = TfidfVectorizer()"
      ]
    },
    {
      "cell_type": "code",
      "execution_count": 23,
      "metadata": {},
      "outputs": [],
      "source": [
        "feature_vectors = vectorizer.fit_transform(combined_features)"
      ]
    },
    {
      "cell_type": "code",
      "execution_count": 25,
      "metadata": {},
      "outputs": [
        {
          "name": "stdout",
          "output_type": "stream",
          "text": [
            "<Compressed Sparse Row sparse matrix of dtype 'float64'\n",
            "\twith 314452 stored elements and shape (4803, 31674)>\n",
            "  Coords\tValues\n",
            "  (0, 576)\t0.05552287249490444\n",
            "  (0, 721)\t0.06361667418861082\n",
            "  (0, 10053)\t0.07921109292531174\n",
            "  (0, 24720)\t0.07389117037591678\n",
            "  (0, 10333)\t0.07397626570741078\n",
            "  (0, 6822)\t0.13944649029207198\n",
            "  (0, 5464)\t0.14412534728090148\n",
            "  (0, 11141)\t0.10293144610710211\n",
            "  (0, 26211)\t0.2249184223444861\n",
            "  (0, 30414)\t0.07997028866714566\n",
            "  (0, 5784)\t0.16116678982694885\n",
            "  (0, 26020)\t0.12400247973187499\n",
            "  (0, 2141)\t0.3772968432669652\n",
            "  (0, 13904)\t0.03370327087232612\n",
            "  (0, 27972)\t0.0757439774177829\n",
            "  (0, 241)\t0.1834455854038367\n",
            "  (0, 4929)\t0.1160534030595115\n",
            "  (0, 20746)\t0.17919455867442288\n",
            "  (0, 17554)\t0.13273886777572982\n",
            "  (0, 14473)\t0.03871367606514675\n",
            "  (0, 8076)\t0.1672840999284348\n",
            "  (0, 28275)\t0.02873959179822235\n",
            "  (0, 18823)\t0.13382353287729085\n",
            "  (0, 20677)\t0.34497387231616145\n",
            "  (0, 20161)\t0.045290151056417934\n",
            "  :\t:\n",
            "  (4802, 22067)\t0.08065544619548977\n",
            "  (4802, 9456)\t0.07035435415169015\n",
            "  (4802, 24851)\t0.07357664702665985\n",
            "  (4802, 6340)\t0.09681765169562287\n",
            "  (4802, 14779)\t0.08873654894555631\n",
            "  (4802, 4004)\t0.09681765169562287\n",
            "  (4802, 8525)\t0.4255372799169623\n",
            "  (4802, 2590)\t0.26180028368807867\n",
            "  (4802, 23803)\t0.07530006768795712\n",
            "  (4802, 10401)\t0.09359535882065315\n",
            "  (4802, 11082)\t0.09774961686153458\n",
            "  (4802, 12051)\t0.09359535882065315\n",
            "  (4802, 19180)\t0.1540527064666518\n",
            "  (4802, 1893)\t0.08680829579862621\n",
            "  (4802, 7278)\t0.09774961686153458\n",
            "  (4802, 24533)\t0.08822981456253165\n",
            "  (4802, 1879)\t0.10512616777738575\n",
            "  (4802, 8218)\t0.06678958400463293\n",
            "  (4802, 8677)\t0.1009719097365043\n",
            "  (4802, 252)\t0.10682700759261951\n",
            "  (4802, 6761)\t0.18315426748664101\n",
            "  (4802, 10214)\t0.1009719097365043\n",
            "  (4802, 11896)\t0.1009719097365043\n",
            "  (4802, 4422)\t0.10682700759261951\n",
            "  (4802, 12974)\t0.5073828775464513\n"
          ]
        }
      ],
      "source": [
        "print(feature_vectors)"
      ]
    },
    {
      "cell_type": "code",
      "execution_count": 26,
      "metadata": {},
      "outputs": [],
      "source": [
        "# getting similarity score using cosine similarity\n",
        "similarity = cosine_similarity(feature_vectors)"
      ]
    },
    {
      "cell_type": "code",
      "execution_count": 27,
      "metadata": {},
      "outputs": [
        {
          "name": "stdout",
          "output_type": "stream",
          "text": [
            "[[1.         0.05176078 0.02708462 ... 0.020484   0.02434631 0.00590704]\n",
            " [0.05176078 1.         0.03598704 ... 0.0511643  0.03780307 0.01469859]\n",
            " [0.02708462 0.03598704 1.         ... 0.01877076 0.03625338 0.01071917]\n",
            " ...\n",
            " [0.020484   0.0511643  0.01877076 ... 1.         0.0243797  0.03974862]\n",
            " [0.02434631 0.03780307 0.03625338 ... 0.0243797  1.         0.02560517]\n",
            " [0.00590704 0.01469859 0.01071917 ... 0.03974862 0.02560517 1.        ]]\n"
          ]
        }
      ],
      "source": [
        "print(similarity)"
      ]
    },
    {
      "cell_type": "code",
      "execution_count": 28,
      "metadata": {},
      "outputs": [
        {
          "name": "stdout",
          "output_type": "stream",
          "text": [
            "(4803, 4803)\n"
          ]
        }
      ],
      "source": [
        "print(similarity.shape)"
      ]
    },
    {
      "cell_type": "code",
      "execution_count": 30,
      "metadata": {},
      "outputs": [
        {
          "name": "stdout",
          "output_type": "stream",
          "text": [
            "[1.         0.05176078 0.02708462 ... 0.020484   0.02434631 0.00590704]\n",
            "--------------------------------------------------------------------------------------\n",
            "[0.05176078 1.         0.03598704 ... 0.0511643  0.03780307 0.01469859]\n",
            "--------------------------------------------------------------------------------------\n",
            "[0.02708462 0.03598704 1.         ... 0.01877076 0.03625338 0.01071917]\n",
            "--------------------------------------------------------------------------------------\n",
            "[0.03170259 0.03866084 0.0337337  ... 0.03864237 0.03867962 0.02161863]\n",
            "--------------------------------------------------------------------------------------\n",
            "[0.07390828 0.08088013 0.02881022 ... 0.03352541 0.02391006 0.01575113]\n",
            "--------------------------------------------------------------------------------------\n"
          ]
        }
      ],
      "source": [
        "for score in range(5):\n",
        "    print(similarity[score])\n",
        "    print(\"--------------------------------------------------------------------------------------\")"
      ]
    },
    {
      "cell_type": "markdown",
      "metadata": {},
      "source": [
        "**Get movie recommendation system based on the user input**"
      ]
    },
    {
      "cell_type": "code",
      "execution_count": 107,
      "metadata": {},
      "outputs": [],
      "source": [
        "def get_recommended_movies(movie_name, count):\n",
        "    # creating a list with all the movie names given in the dataset\n",
        "    list_of_all_titles = movies['title'].tolist()\n",
        "    # print(list_of_all_titles)\n",
        "    \n",
        "    # find the close match for the movie given by the user\n",
        "    close_match = difflib.get_close_matches(movie_name, list_of_all_titles)\n",
        "    # print(f\"Close matches: {close_match}\")\n",
        "    \n",
        "    if len(close_match) > 0:\n",
        "        \n",
        "    \n",
        "        close_match = close_match[0]\n",
        "        # print(close_match)\n",
        "        \n",
        "        index_of_movie = movies[movies['title'] == close_match].index[0]\n",
        "        \n",
        "        scores = list(enumerate(similarity[index_of_movie]))\n",
        "        # print(len(scores))\n",
        "        # print(scores)\n",
        "        \n",
        "        # sort the socres in descending to find the best similarity scores\n",
        "        sorted_scores = sorted(scores, key=lambda x:x[1], reverse=True)\n",
        "        # print(sorted_scores)\n",
        "    \n",
        "        # return the top five recommended movies based on the user input\n",
        "        movie_names=[]\n",
        "        movie_scores=[]\n",
        "\n",
        "        for movie in sorted_scores[:count]:\n",
        "            index, score = movie\n",
        "            \n",
        "            name = movies.loc[index].title\n",
        "            movie_names.append(name)\n",
        "            movie_scores.append(score)\n",
        "\n",
        "        recommendations = pd.DataFrame(data={\"Movies\":movie_names, \"Scores\": movie_scores}, index=[x+1 for x in range(count)])\n",
        "        print(recommendations)\n",
        "            \n",
        "    else:\n",
        "        print(\"No recommended movies found!!\")"
      ]
    },
    {
      "cell_type": "code",
      "execution_count": 109,
      "metadata": {},
      "outputs": [
        {
          "name": "stdout",
          "output_type": "stream",
          "text": [
            "                            Movies    Scores\n",
            "1                           Avatar  1.000000\n",
            "2                            Alien  0.156733\n",
            "3                    Lost in Space  0.150333\n",
            "4                        Moonraker  0.140175\n",
            "5                        Lifeforce  0.139452\n",
            "6       Zathura: A Space Adventure  0.136417\n",
            "7                           Aliens  0.133426\n",
            "8                     Space Chimps  0.129606\n",
            "9                    Pandora's Box  0.127774\n",
            "10                Star Trek Beyond  0.125437\n",
            "11         Guardians of the Galaxy  0.121904\n",
            "12                         Gattaca  0.121580\n",
            "13                         Gravity  0.119641\n",
            "14  Transformers: Dark of the Moon  0.114111\n",
            "15                The Book of Life  0.114066\n",
            "16                   Space Cowboys  0.114056\n",
            "17                 Treasure Planet  0.109218\n",
            "18                       Apollo 18  0.109165\n",
            "19                 Men in Black II  0.108887\n",
            "20                            Moon  0.108685\n"
          ]
        }
      ],
      "source": [
        "# getting the movie name from the user\n",
        "user_input = input('Enter your favorite movie name: ')\n",
        "get_recommended_movies(user_input, 20)"
      ]
    },
    {
      "cell_type": "code",
      "execution_count": 102,
      "metadata": {},
      "outputs": [],
      "source": []
    },
    {
      "cell_type": "code",
      "execution_count": null,
      "metadata": {},
      "outputs": [],
      "source": []
    }
  ],
  "metadata": {
    "accelerator": "GPU",
    "colab": {
      "gpuType": "T4",
      "provenance": []
    },
    "kernelspec": {
      "display_name": "Python 3",
      "name": "python3"
    },
    "language_info": {
      "codemirror_mode": {
        "name": "ipython",
        "version": 3
      },
      "file_extension": ".py",
      "mimetype": "text/x-python",
      "name": "python",
      "nbconvert_exporter": "python",
      "pygments_lexer": "ipython3",
      "version": "3.12.4"
    }
  },
  "nbformat": 4,
  "nbformat_minor": 0
}
